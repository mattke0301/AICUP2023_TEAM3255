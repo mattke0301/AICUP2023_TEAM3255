{
 "cells": [
  {
   "cell_type": "code",
   "execution_count": 1,
   "id": "7e618052",
   "metadata": {},
   "outputs": [
    {
     "name": "stdout",
     "output_type": "stream",
     "text": [
      "2.3.0\n"
     ]
    }
   ],
   "source": [
    "import os\n",
    "import scipy.io\n",
    "import numpy as np\n",
    "import pandas as pd\n",
    "import tensorflow as tf\n",
    "print(tf.__version__)"
   ]
  },
  {
   "cell_type": "code",
   "execution_count": 2,
   "id": "b1d07b0f",
   "metadata": {},
   "outputs": [],
   "source": [
    "path_dir_pub = './Public Testing Dataset/test_mat_data_public/'\n",
    "path_dir_pri = './Private Testing Dataset/test_mat_data_private/'\n",
    "file_path_pub = os.listdir(path_dir_pub)\n",
    "file_path_pri = os.listdir(path_dir_pri)"
   ]
  },
  {
   "cell_type": "code",
   "execution_count": 3,
   "id": "b2a3a5d0",
   "metadata": {
    "scrolled": true
   },
   "outputs": [],
   "source": [
    "datalist_pub = pd.read_csv('./Public Testing Dataset/test_datalist_public.csv')\n",
    "datalist_pub['Sex'] = datalist_pub['Sex'] - 1\n",
    "datalist_pub['Age'] = datalist_pub['Age'] / 50\n",
    "datalist_pub['Voice handicap index - 10'] = datalist_pub['Voice handicap index - 10'] / 40\n",
    "datalist_pub = datalist_pub.fillna(0)\n",
    "datalist_pri = pd.read_csv('./Private Testing Dataset/test_datalist_private.csv')\n",
    "datalist_pri['Sex'] = datalist_pri['Sex'] - 1\n",
    "datalist_pri['Age'] = datalist_pri['Age'] / 50\n",
    "datalist_pri['Voice handicap index - 10'] = datalist_pri['Voice handicap index - 10'] / 40\n",
    "datalist_pri = datalist_pri.fillna(0)"
   ]
  },
  {
   "cell_type": "code",
   "execution_count": 4,
   "id": "99465c0a",
   "metadata": {
    "scrolled": true
   },
   "outputs": [
    {
     "name": "stdout",
     "output_type": "stream",
     "text": [
      "training data done...\n"
     ]
    }
   ],
   "source": [
    "X = []\n",
    "ID = []\n",
    "T = []\n",
    "for i in datalist_pub['ID']:\n",
    "    features = scipy.io.loadmat(path_dir_pub + i)['features']\n",
    "    text = (datalist_pub[datalist_pub['ID'] == i]).values.tolist()[0]\n",
    "    ID.append(text[0])\n",
    "    del text[0] # del id\n",
    "    \n",
    "    if features.shape[0] == 200:\n",
    "        temp = (features[0:100, :] + features[100:200, :])/2\n",
    "        X.append(temp)\n",
    "    elif features.shape[0] == 300:\n",
    "        temp = (features[0:100, :] + features[100:200, :] + features[200:300, :])/3\n",
    "        X.append(temp)\n",
    "    elif features.shape[0] == 150:\n",
    "        temp = (features[0:100, :] + features[50:150, :])/2\n",
    "        X.append(temp)\n",
    "    else:\n",
    "        temp = features[0:100, :]\n",
    "        X.append(temp)\n",
    "    T.append(text)\n",
    "    \n",
    "for i in datalist_pri['ID']:\n",
    "    features = scipy.io.loadmat(path_dir_pri + i)['features']\n",
    "    text = (datalist_pri[datalist_pri['ID'] == i]).values.tolist()[0]\n",
    "    ID.append(text[0])\n",
    "    del text[0] # del id\n",
    "    \n",
    "    if features.shape[0] == 200:\n",
    "        temp = (features[0:100, :] + features[100:200, :])/2\n",
    "        X.append(temp)\n",
    "    elif features.shape[0] == 300:\n",
    "        temp = (features[0:100, :] + features[100:200, :] + features[200:300, :])/3\n",
    "        X.append(temp)\n",
    "    elif features.shape[0] == 150:\n",
    "        temp = (features[0:100, :] + features[50:150, :])/2\n",
    "        X.append(temp)\n",
    "    else:\n",
    "        temp = features[0:100, :]\n",
    "        X.append(temp)\n",
    "    T.append(text)\n",
    "\n",
    "print('training data done...')"
   ]
  },
  {
   "cell_type": "code",
   "execution_count": 5,
   "id": "e682d42d",
   "metadata": {},
   "outputs": [
    {
     "name": "stdout",
     "output_type": "stream",
     "text": [
      "999\n",
      "999\n",
      "999\n"
     ]
    }
   ],
   "source": [
    "print(len(X))\n",
    "print(len(T))\n",
    "print(len(ID))"
   ]
  },
  {
   "cell_type": "code",
   "execution_count": 6,
   "id": "4bf45a3a",
   "metadata": {},
   "outputs": [],
   "source": [
    "X = np.array(X, dtype='float32')\n",
    "T = np.array(T, dtype='float32')"
   ]
  },
  {
   "cell_type": "code",
   "execution_count": 7,
   "id": "46804827",
   "metadata": {},
   "outputs": [],
   "source": [
    "X_T = np.transpose(X, (0, 2, 1))"
   ]
  },
  {
   "cell_type": "code",
   "execution_count": 8,
   "id": "505e287c",
   "metadata": {
    "scrolled": false
   },
   "outputs": [
    {
     "name": "stdout",
     "output_type": "stream",
     "text": [
      "fold10_best_model.h5 append successed..\n",
      "fold1_best_model.h5 append successed..\n",
      "fold2_best_model.h5 append successed..\n",
      "fold3_best_model.h5 append successed..\n",
      "fold4_best_model.h5 append successed..\n",
      "fold5_best_model.h5 append successed..\n",
      "fold6_best_model.h5 append successed..\n",
      "fold7_best_model.h5 append successed..\n",
      "fold8_best_model.h5 append successed..\n",
      "fold9_best_model.h5 append successed..\n"
     ]
    }
   ],
   "source": [
    "model_path = './fold_model/0518/'\n",
    "model_file = os.listdir(model_path)\n",
    "models = []\n",
    "for i in model_file:\n",
    "    models.append(tf.keras.models.load_model(model_path + i))\n",
    "    print(i + ' append successed..')"
   ]
  },
  {
   "cell_type": "code",
   "execution_count": 9,
   "id": "c74d9c53",
   "metadata": {
    "scrolled": true
   },
   "outputs": [
    {
     "name": "stdout",
     "output_type": "stream",
     "text": [
      "predict done...\n"
     ]
    }
   ],
   "source": [
    "# 創建一個列表來存儲每個模型的預測結果\n",
    "predictions = []\n",
    "\n",
    "# 對每個模型進行預測\n",
    "\n",
    "for model in models:\n",
    "    frame_pred = model.predict([X, T, X_T])\n",
    "    predictions.append(frame_pred)\n",
    "\n",
    "# frame_pred = model.predict([X, T, X_T])\n",
    "# predictions.append(frame_pred)\n",
    "\n",
    "# 將預測結果進行平均\n",
    "# print(predictions[0])\n",
    "ensemble_predictions = np.mean(predictions, axis=0)\n",
    "Y_pred = ensemble_predictions.argmax(axis=1)\n",
    "\n",
    "print('predict done...')"
   ]
  },
  {
   "cell_type": "code",
   "execution_count": 10,
   "id": "3a716fcf",
   "metadata": {},
   "outputs": [
    {
     "name": "stdout",
     "output_type": "stream",
     "text": [
      "[1 4 2 4 1 1 2 3 1 5 3 4 1 1 1 1 5 1 3 1 4 2 2 1 1 3 1 1 2 1 2 2 4 3 2 1 4\n",
      " 3 4 2 2 1 1 1 3 2 2 1 3 1 1 1 1 1 2 1 1 1 3 4 1 1 1 2 3 5 1 3 3 3 1 2 1 2\n",
      " 3 1 3 1 1 1 2 1 3 1 2 2 1 2 3 2 1 1 3 2 4 4 1 4 2 2 1 1 1 1 3 2 2 3 1 1 1\n",
      " 2 3 1 1 1 1 2 1 1 1 2 1 2 1 3 1 2 1 3 3 1 1 3 4 1 4 3 5 2 1 1 4 3 2 2 2 1\n",
      " 3 1 1 3 3 2 1 1 1 2 3 3 2 1 1 3 2 2 4 1 2 2 1 2 5 2 1 1 3 1 2 2 2 1 1 3 1\n",
      " 1 1 5 1 2 1 1 2 3 1 4 1 1 4 3 1 4 2 3 2 2 2 1 1 1 4 2 4 3 3 1 4 1 2 2 1 1\n",
      " 3 1 1 1 2 1 1 2 1 2 5 1 1 2 2 1 1 3 3 1 3 1 5 4 2 1 1 3 2 1 5 4 1 1 1 3 3\n",
      " 1 1 1 1 1 3 1 2 1 3 1 2 1 3 1 2 3 2 2 4 2 4 1 1 2 1 2 1 2 1 2 1 3 2 1 1 1\n",
      " 1 1 2 1 2 1 1 1 2 1 4 2 1 2 3 1 3 3 1 3 1 2 1 3 2 2 1 5 2 2 4 2 1 1 2 3 1\n",
      " 4 1 3 1 1 1 2 1 3 1 2 1 1 1 1 3 4 2 4 3 2 1 1 1 3 2 3 1 1 2 1 2 1 4 1 2 1\n",
      " 1 1 1 3 3 1 4 1 2 3 1 2 5 1 3 4 2 1 2 1 1 1 1 4 3 5 2 1 1 3 1 3 1 1 1 1 2\n",
      " 2 1 1 3 3 2 1 2 1 2 2 5 4 2 1 1 3 2 2 1 2 2 1 3 1 2 1 1 1 1 1 1 1 1 1 3 3\n",
      " 1 4 1 1 1 5 1 1 2 3 2 3 3 5 1 1 3 1 1 1 4 1 1 2 3 1 2 4 3 3 2 5 2 1 1 1 4\n",
      " 1 1 2 4 3 5 1 2 1 1 5 2 1 1 1 1 3 2 1 2 5 2 2 3 1 2 1 1 1 1 2 1 3 2 2 1 2\n",
      " 1 1 2 1 3 1 2 1 3 2 1 1 3 4 2 2 1 1 2 1 3 1 1 4 2 2 1 1 3 2 2 3 2 1 3 2 1\n",
      " 2 1 5 1 5 1 1 5 2 1 1 5 1 3 2 3 3 1 1 2 1 1 1 4 2 1 3 3 1 1 3 5 1 5 2 1 1\n",
      " 1 1 4 2 1 1 2 2 1 4 1 3 2 3 1 2 3 1 2 1 5 3 2 2 2 2 1 3 4 4 4 2 3 1 3 1 1\n",
      " 3 3 1 1 1 1 3 5 3 2 1 1 3 1 1 2 2 5 1 1 1 1 3 1 3 3 2 2 1 1 3 1 4 1 5 3 4\n",
      " 1 3 1 2 1 1 1 2 1 3 3 1 1 2 3 4 4 1 2 1 1 4 1 5 3 1 3 1 2 5 2 2 1 3 3 2 1\n",
      " 5 1 5 1 2 5 2 2 2 1 4 3 1 1 1 2 3 4 1 1 1 1 5 3 1 3 2 2 3 3 1 3 4 1 1 3 5\n",
      " 4 3 1 4 1 4 1 1 2 3 2 3 1 4 1 1 3 1 1 4 1 2 3 1 2 3 1 1 2 5 1 2 1 4 2 5 1\n",
      " 3 1 1 1 1 1 1 2 1 1 4 2 5 1 1 2 1 1 1 1 1 3 3 5 5 1 1 3 1 3 2 1 2 4 2 2 1\n",
      " 1 3 2 2 1 1 1 1 1 1 1 2 1 1 1 1 1 3 3 2 2 1 5 3 1 1 1 1 2 2 3 2 1 1 3 3 1\n",
      " 3 2 4 1 1 1 1 1 1 1 2 1 3 1 1 1 4 3 3 2 3 1 3 4 2 2 4 1 1 1 4 4 3 5 1 3 4\n",
      " 2 1 5 1 3 1 4 1 1 3 1 2 3 2 1 1 1 1 1 3 4 3 1 1 1 1 2 3 3 1 3 1 1 1 2 4 2\n",
      " 2 3 2 2 1 3 2 4 1 2 2 3 3 1 3 2 1 5 1 1 1 2 2 1 3 1 3 5 2 1 2 3 4 2 3 2 2\n",
      " 5 1 1 3 2 4 4 1 3 1 1 3 3 1 2 2 1 3 1 1 4 2 4 3 2 4 3 1 4 2 4 1 1 3 5 3 1]\n"
     ]
    }
   ],
   "source": [
    "Y_submit = Y_pred + 1\n",
    "print(Y_submit)"
   ]
  },
  {
   "cell_type": "code",
   "execution_count": 11,
   "id": "732ce133",
   "metadata": {},
   "outputs": [],
   "source": [
    "submit = pd.DataFrame({'ID': ID, 'Y': Y_submit})"
   ]
  },
  {
   "cell_type": "code",
   "execution_count": 13,
   "id": "f30b762d",
   "metadata": {},
   "outputs": [],
   "source": [
    "submit.to_csv('./Public Testing Dataset/submit_ensemble.csv', index=False, header=False)"
   ]
  }
 ],
 "metadata": {
  "kernelspec": {
   "display_name": "Python 3",
   "language": "python",
   "name": "python3"
  },
  "language_info": {
   "codemirror_mode": {
    "name": "ipython",
    "version": 3
   },
   "file_extension": ".py",
   "mimetype": "text/x-python",
   "name": "python",
   "nbconvert_exporter": "python",
   "pygments_lexer": "ipython3",
   "version": "3.6.13"
  }
 },
 "nbformat": 4,
 "nbformat_minor": 5
}
